{
 "cells": [
  {
   "cell_type": "markdown",
   "id": "0936d803",
   "metadata": {},
   "source": [
    "# GUI For Bird Species Prediction Using Deep Learning"
   ]
  },
  {
   "cell_type": "code",
   "execution_count": 35,
   "id": "f001ddf0",
   "metadata": {},
   "outputs": [],
   "source": [
    "#Imports-\n",
    "\n",
    "import tkinter as tk\n",
    "from tkinter import filedialog\n",
    "from PIL import Image, ImageTk\n",
    "import numpy as np\n",
    "from tensorflow.keras.models import load_model\n",
    "import tensorflow as tf\n",
    "import matplotlib.pyplot as plt"
   ]
  },
  {
   "cell_type": "code",
   "execution_count": 36,
   "id": "6a4d856f",
   "metadata": {},
   "outputs": [],
   "source": [
    "#Load the trained model-\n",
    "\n",
    "model = load_model('C:\\\\Users\\\\cdac\\\\Documents\\\\bird5.h5')"
   ]
  },
  {
   "cell_type": "code",
   "execution_count": 37,
   "id": "4c56ab52",
   "metadata": {},
   "outputs": [],
   "source": [
    "#Define a dictionary mapping class indices to bird species names-\n",
    "\n",
    "class_names = {}\n",
    "for i in range(525):\n",
    "    species_name = f'Species {i+1}'\n",
    "    class_names[i] = species_name\n",
    "\n",
    "def open_image():\n",
    "    global file_path\n",
    "    file_path = filedialog.askopenfilename(filetypes=[(\"Images\", \"*.png;*.jpg;*.jpeg\")])\n",
    "    if file_path:\n",
    "        \n",
    "        #Display the selected image\n",
    "        image = Image.open(file_path)\n",
    "        image = image.resize((300, 300))\n",
    "        photo = ImageTk.PhotoImage(image)\n",
    "        image_label.configure(image=photo)\n",
    "        image_label.image = photo\n",
    "        \n",
    "        #Enable the predict button\n",
    "        predict_button.configure(state=tk.NORMAL)\n",
    "\n",
    "def predict_species():\n",
    "    \n",
    "    #Load and preprocess the image for prediction\n",
    "    image = Image.open(file_path)\n",
    "    image = image.resize((224, 224))\n",
    "    image_array = np.array(image) / 255.0\n",
    "    image_array = np.expand_dims(image_array, axis=0)\n",
    "    \n",
    "    #Make the prediction\n",
    "    pred = model.predict(image_array)\n",
    "    pred_class = np.argmax(pred, axis=1)[0]\n",
    "    predicted_species = class_names[pred_class]\n",
    "    \n",
    "    #Update the result label\n",
    "    result_label.configure(text=\"Predicted Bird Species: \" + predicted_species)"
   ]
  },
  {
   "cell_type": "code",
   "execution_count": 38,
   "id": "dfac433e",
   "metadata": {},
   "outputs": [],
   "source": [
    "#Create the main window-\n",
    "\n",
    "window = tk.Tk()"
   ]
  },
  {
   "cell_type": "code",
   "execution_count": 39,
   "id": "ddab8edf",
   "metadata": {},
   "outputs": [],
   "source": [
    "#Add GUI components-\n",
    "\n",
    "label = tk.Label(window, text=\"Select an image:\")\n",
    "label.pack()\n",
    "\n",
    "upload_button = tk.Button(window, text=\"Upload\", command=open_image)\n",
    "upload_button.pack()\n",
    "\n",
    "image_label = tk.Label(window)\n",
    "image_label.pack()\n",
    "\n",
    "predict_button = tk.Button(window, text=\"Predict\", command=predict_species, state=tk.DISABLED)\n",
    "predict_button.pack()\n",
    "\n",
    "result_label = tk.Label(window, text=\"Predicted Bird Species: \")\n",
    "result_label.pack()"
   ]
  },
  {
   "cell_type": "code",
   "execution_count": 40,
   "id": "087287df",
   "metadata": {},
   "outputs": [
    {
     "name": "stdout",
     "output_type": "stream",
     "text": [
      "WARNING:tensorflow:6 out of the last 6 calls to <function Model.make_predict_function.<locals>.predict_function at 0x000001B86E3D64D0> triggered tf.function retracing. Tracing is expensive and the excessive number of tracings could be due to (1) creating @tf.function repeatedly in a loop, (2) passing tensors with different shapes, (3) passing Python objects instead of tensors. For (1), please define your @tf.function outside of the loop. For (2), @tf.function has reduce_retracing=True option that can avoid unnecessary retracing. For (3), please refer to https://www.tensorflow.org/guide/function#controlling_retracing and https://www.tensorflow.org/api_docs/python/tf/function for  more details.\n",
      "1/1 [==============================] - 1s 1s/step\n"
     ]
    }
   ],
   "source": [
    "#Run the main event loop-\n",
    "\n",
    "window.mainloop()"
   ]
  }
 ],
 "metadata": {
  "kernelspec": {
   "display_name": "Python 3 (ipykernel)",
   "language": "python",
   "name": "python3"
  },
  "language_info": {
   "codemirror_mode": {
    "name": "ipython",
    "version": 3
   },
   "file_extension": ".py",
   "mimetype": "text/x-python",
   "name": "python",
   "nbconvert_exporter": "python",
   "pygments_lexer": "ipython3",
   "version": "3.10.9"
  }
 },
 "nbformat": 4,
 "nbformat_minor": 5
}
