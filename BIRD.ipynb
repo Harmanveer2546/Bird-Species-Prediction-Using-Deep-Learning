{
 "cells": [
  {
   "cell_type": "markdown",
   "id": "a7a29ce2",
   "metadata": {},
   "source": [
    "# Bird Species Prediction Using Deep Learning"
   ]
  },
  {
   "cell_type": "markdown",
   "id": "df3c19db",
   "metadata": {},
   "source": [
    "#### BIRD behavior and population trends have become an important issue now a days. Birds help us to detect other organisms in the environment (e.g. insects they feed on) easily as they respond quickly to the environmental changes. But, gathering and collecting information about birds requires huge human effort as well as becomes a very costlier method. In such case, a reliable system that will provide large scale processing of information about birds and will serve as a valuable tool for researchers, governmental agencies, etc. is required. So, bird species identification plays an important role in identifying that a particular image of bird belongs to which species. Bird species identification means predicting the bird species belongs to which category by using an image. "
   ]
  },
  {
   "cell_type": "markdown",
   "id": "c76eb7c3",
   "metadata": {},
   "source": [
    "### About Dataset-   \n",
    "#### Data set of 525 bird species. 84635 training images, 2625 test images(5 images per species) and 2625 validation images(5 images per species. This is a very high quality dataset where there is only one bird in each image and the bird typically takes up at least 50% of the pixels in the image. As a result even a moderately complex model will achieve training and test accuracies in the mid 90% range.         "
   ]
  },
  {
   "cell_type": "markdown",
   "id": "97a32503",
   "metadata": {},
   "source": [
    "## 1. Imports:"
   ]
  },
  {
   "cell_type": "code",
   "execution_count": null,
   "id": "20870bbe",
   "metadata": {},
   "outputs": [],
   "source": [
    "#For Warnings- \n",
    "\n",
    "import warnings\n",
    "warnings.filterwarnings('ignore')"
   ]
  },
  {
   "cell_type": "code",
   "execution_count": null,
   "id": "f75bdf44",
   "metadata": {},
   "outputs": [],
   "source": [
    "#Basic imports-\n",
    "\n",
    "import numpy as np\n",
    "import pandas as pd\n",
    "import matplotlib.pyplot as plt\n",
    "import seaborn as sns\n",
    "import pathlib, os, random"
   ]
  },
  {
   "cell_type": "code",
   "execution_count": null,
   "id": "93bf66ed",
   "metadata": {},
   "outputs": [],
   "source": [
    "#Imports for CNN-\n",
    "\n",
    "import os\n",
    "import keras\n",
    "import tensorflow as tf\n",
    "\n",
    "from keras.layers import Dense, Flatten, Conv2D, MaxPooling2D, Activation, BatchNormalization, Dropout , GlobalAveragePooling2D\n",
    "from keras.preprocessing.image import ImageDataGenerator\n",
    "from keras import Sequential\n",
    "from keras.callbacks import Callback, EarlyStopping,ModelCheckpoint"
   ]
  },
  {
   "cell_type": "code",
   "execution_count": null,
   "id": "08999e5b",
   "metadata": {},
   "outputs": [],
   "source": [
    "#Checking the version used-\n",
    "\n",
    "print('Keras Version Used:',keras.__version__)\n",
    "print('Tensorflow Version Used:',tf.__version__)"
   ]
  },
  {
   "cell_type": "markdown",
   "id": "9af39959",
   "metadata": {},
   "source": [
    "## 2. EDA:"
   ]
  },
  {
   "cell_type": "markdown",
   "id": "d1e4562d",
   "metadata": {},
   "source": [
    "### i.) Reading and Understanding Data-"
   ]
  },
  {
   "cell_type": "code",
   "execution_count": null,
   "id": "4d7db1a9",
   "metadata": {},
   "outputs": [],
   "source": [
    "#Create a dataframe from the csv-\n",
    "\n",
    "bird = pd.read_csv('D:/Dataset/birds.csv')"
   ]
  },
  {
   "cell_type": "code",
   "execution_count": null,
   "id": "0ebcde2a",
   "metadata": {},
   "outputs": [],
   "source": [
    "#Clean column names-\n",
    "\n",
    "bird.columns = [col.replace(' ', '_').lower() for col in bird.columns]"
   ]
  },
  {
   "cell_type": "code",
   "execution_count": null,
   "id": "7a2ed9a9",
   "metadata": {},
   "outputs": [],
   "source": [
    "print(bird)"
   ]
  },
  {
   "cell_type": "code",
   "execution_count": null,
   "id": "6b691753",
   "metadata": {},
   "outputs": [],
   "source": [
    "#Checking first ten records-\n",
    "\n",
    "bird.head()"
   ]
  },
  {
   "cell_type": "code",
   "execution_count": null,
   "id": "972ed938",
   "metadata": {},
   "outputs": [],
   "source": [
    "#Checking last ten records-\n",
    "\n",
    "bird.tail()"
   ]
  },
  {
   "cell_type": "code",
   "execution_count": null,
   "id": "c05d720e",
   "metadata": {},
   "outputs": [],
   "source": [
    "#Count number of rows and cols-\n",
    "\n",
    "bird.shape"
   ]
  },
  {
   "cell_type": "code",
   "execution_count": null,
   "id": "ac6f8fca",
   "metadata": {},
   "outputs": [],
   "source": [
    "#Count no of rows axis=0\n",
    "\n",
    "bird.shape[0]"
   ]
  },
  {
   "cell_type": "code",
   "execution_count": null,
   "id": "dd02b7bc",
   "metadata": {},
   "outputs": [],
   "source": [
    "#Count no of rows axis=1\n",
    "\n",
    "bird.shape[1]"
   ]
  },
  {
   "cell_type": "code",
   "execution_count": null,
   "id": "be3a7e16",
   "metadata": {},
   "outputs": [],
   "source": [
    "#Columns name-\n",
    "\n",
    "list(bird.columns)"
   ]
  },
  {
   "cell_type": "code",
   "execution_count": null,
   "id": "08218bba",
   "metadata": {},
   "outputs": [],
   "source": [
    "#Info about csv file data-\n",
    "\n",
    "bird.info"
   ]
  },
  {
   "cell_type": "code",
   "execution_count": null,
   "id": "16afd609",
   "metadata": {},
   "outputs": [],
   "source": [
    "bird.value_counts(\"data_set\").head()"
   ]
  },
  {
   "cell_type": "code",
   "execution_count": null,
   "id": "b0ddff9f",
   "metadata": {},
   "outputs": [],
   "source": [
    "#The describe() method returns description of the data in the DataFrame -\n",
    "\n",
    "bird.describe()"
   ]
  },
  {
   "cell_type": "code",
   "execution_count": null,
   "id": "30bca1b6",
   "metadata": {},
   "outputs": [],
   "source": [
    "#Checking the distribution of classes-\n",
    "#Frequency of bird species in the whole dataset\n",
    "\n",
    "counts = bird['class_id'].value_counts()\n",
    "print(counts)"
   ]
  },
  {
   "cell_type": "code",
   "execution_count": null,
   "id": "51139036",
   "metadata": {},
   "outputs": [],
   "source": [
    "#Look at csv entries for one single bird:\n",
    "\n",
    "#mask = birds_df['labels'].str.contains(\"ABBOTTS BABBLER\") # Search for text fragment\n",
    "#mask = birds_df.query('labels == \"ABBOTTS BABBLER\"') # query for name (case sensitive!)\n",
    "\n",
    "mask = bird.loc[bird['class_id'] == 0]\n",
    "print(mask.value_counts(\"data_set\"))\n",
    "mask"
   ]
  },
  {
   "cell_type": "code",
   "execution_count": null,
   "id": "ddc0078e",
   "metadata": {},
   "outputs": [],
   "source": [
    "#Visualize the distribution of classes-\n",
    "\n",
    "plt.figure(figsize = (100, 80))\n",
    "counts.plot(kind = 'bar')\n",
    "plt.xlabel('Class')\n",
    "plt.ylabel('Count')\n",
    "plt.title('Distribution of Classes')\n",
    "plt.show()"
   ]
  },
  {
   "cell_type": "markdown",
   "id": "e8f2c177",
   "metadata": {},
   "source": [
    "### ii.) Image Sizes-"
   ]
  },
  {
   "cell_type": "code",
   "execution_count": null,
   "id": "9b31ee97",
   "metadata": {},
   "outputs": [],
   "source": [
    "#Important Imports -\n",
    "\n",
    "import matplotlib.pyplot as plt\n",
    "import matplotlib.image as mpimg\n",
    "from PIL import Image\n",
    "import cv2 as cv"
   ]
  },
  {
   "cell_type": "code",
   "execution_count": null,
   "id": "a0887cb7",
   "metadata": {},
   "outputs": [],
   "source": [
    "bird.filepaths[0]"
   ]
  },
  {
   "cell_type": "code",
   "execution_count": null,
   "id": "be84b4fe",
   "metadata": {},
   "outputs": [],
   "source": [
    "image_path = 'D:\\\\Dataset\\\\train\\\\ABBOTTS BABBLER\\\\001.jpg'\n",
    "img = Image.open(image_path)\n",
    "img"
   ]
  },
  {
   "cell_type": "code",
   "execution_count": null,
   "id": "4c16e7d2",
   "metadata": {},
   "outputs": [],
   "source": [
    "img.size"
   ]
  },
  {
   "cell_type": "markdown",
   "id": "f4235f4a",
   "metadata": {},
   "source": [
    "### iii.) Duplicates -"
   ]
  },
  {
   "cell_type": "code",
   "execution_count": null,
   "id": "d301fa05",
   "metadata": {},
   "outputs": [],
   "source": [
    "bird.duplicated().sum()"
   ]
  },
  {
   "cell_type": "markdown",
   "id": "272b2fb5",
   "metadata": {},
   "source": [
    "### iv.) Missing Values-"
   ]
  },
  {
   "cell_type": "code",
   "execution_count": null,
   "id": "eb50a996",
   "metadata": {},
   "outputs": [],
   "source": [
    "bird.isnull().sum()"
   ]
  },
  {
   "cell_type": "markdown",
   "id": "0d657beb",
   "metadata": {},
   "source": [
    "### v.) Kurtosis-"
   ]
  },
  {
   "cell_type": "code",
   "execution_count": null,
   "id": "c839008a",
   "metadata": {},
   "outputs": [],
   "source": [
    "bird.kurtosis()"
   ]
  },
  {
   "cell_type": "markdown",
   "id": "785b4cd7",
   "metadata": {},
   "source": [
    "### vi.) Skewness-"
   ]
  },
  {
   "cell_type": "code",
   "execution_count": null,
   "id": "7de5af1e",
   "metadata": {},
   "outputs": [],
   "source": [
    "bird.skew()"
   ]
  },
  {
   "cell_type": "markdown",
   "id": "6c579038",
   "metadata": {},
   "source": [
    "### vii.)  Visualization-"
   ]
  },
  {
   "cell_type": "code",
   "execution_count": null,
   "id": "8e85c647",
   "metadata": {},
   "outputs": [],
   "source": [
    "#Knowing Dataset-\n",
    "\n",
    "import plotly.express as px\n",
    "\n",
    "def tuple_count(file_path, dataset):\n",
    "    bird_count = []\n",
    "    for file in os.listdir(file_path):\n",
    "        bird_count.append((file, len(os.listdir(file_path + file)), dataset))\n",
    "    return bird_count\n",
    "\n",
    "consolidated = tuple_count(test_path, 'test') + tuple_count(valid_path, 'valid') + tuple_count(train_path, 'train')\n",
    "count_df = pd.DataFrame.from_records(consolidated, columns =['Name', 'Count', 'From']) \n",
    "\n",
    "fig = px.bar(count_df, x='Name', y='Count', color='From')\n",
    "fig.update_xaxes(visible=False)\n",
    "fig.show()"
   ]
  },
  {
   "cell_type": "code",
   "execution_count": null,
   "id": "3abfd032",
   "metadata": {},
   "outputs": [],
   "source": [
    "#Create a bar plot -\n",
    "\n",
    "plt.figure(figsize=(20, 10))\n",
    "plt.bar(counts.index, counts.values)\n",
    "plt.xlabel('Bird Species')\n",
    "plt.ylabel('Count')\n",
    "plt.title('Distribution of Bird Species')\n",
    "plt.show()"
   ]
  },
  {
   "cell_type": "code",
   "execution_count": null,
   "id": "38e2376a",
   "metadata": {},
   "outputs": [],
   "source": [
    "#Importing Some Images-\n",
    "\n",
    "import matplotlib.pyplot as plt\n",
    "import matplotlib.image as mpimg\n",
    "\n",
    "img_path = 'D:\\\\dataset\\\\train\\\\ABBOTTS BOOBY\\\\002.jpg'\n",
    "img = mpimg.imread(img_path)\n",
    "plt.imshow(img)\n",
    "plt.axis('off')\n",
    "plt.show()"
   ]
  },
  {
   "cell_type": "code",
   "execution_count": null,
   "id": "dcb9ad32",
   "metadata": {},
   "outputs": [],
   "source": [
    "#Randomly select 9 images:\n",
    "\n",
    "samples = np.random.choice(bird.index, size=9, replace=False)\n",
    "\n",
    "#Create a 3x3 grid to display the images:\n",
    "\n",
    "base_path = 'D:/' \n",
    "fig, ax = plt.subplots(nrows=3, ncols=3, figsize=(12, 10))\n",
    "for i, idx in enumerate(samples):\n",
    "    \n",
    "    print(i)\n",
    "    print(idx)\n",
    " \n",
    "    img_path = base_path+bird.filepaths[i]\n",
    "    img = Image.open(img_path)\n",
    "    row = i // 3\n",
    "    col = i % 3\n",
    "    ax[row, col].imshow(img)\n",
    "    ax[row, col].set_title(bird['filepaths'][idx])\n",
    "    ax[row, col].axis('off')\n",
    "    \n",
    "plt.show()"
   ]
  },
  {
   "cell_type": "code",
   "execution_count": null,
   "id": "673b1ed7",
   "metadata": {},
   "outputs": [],
   "source": [
    "#Visualize Image size-\n",
    "\n",
    "import numpy as np\n",
    "widths = np.random.randint(100, 500, size=100) # generate 100 random integers between 100 and 500\n",
    "heights = np.random.randint(100, 500, size=100) # generate 100 random integers between 100 and 500\n",
    "print(widths)\n",
    "print(heights)"
   ]
  },
  {
   "cell_type": "code",
   "execution_count": null,
   "id": "64b5dde5",
   "metadata": {},
   "outputs": [],
   "source": [
    "plt.figure(figsize=(5, 5))\n",
    "plt.scatter(widths, heights)\n",
    "plt.xlabel('Width')\n",
    "plt.ylabel('Height')\n",
    "plt.title('Distribution of Image Sizes')\n",
    "plt.show()"
   ]
  },
  {
   "cell_type": "markdown",
   "id": "b89f8561",
   "metadata": {},
   "source": [
    "### viii.) Correlation-"
   ]
  },
  {
   "cell_type": "code",
   "execution_count": null,
   "id": "9c6cfd7b",
   "metadata": {},
   "outputs": [],
   "source": [
    "bird.corr()"
   ]
  },
  {
   "cell_type": "markdown",
   "id": "94e5af63",
   "metadata": {},
   "source": [
    "## Making a listing of the species names, training, test, validation file counts and prinitng all species -"
   ]
  },
  {
   "cell_type": "code",
   "execution_count": null,
   "id": "7fe341ea",
   "metadata": {},
   "outputs": [],
   "source": [
    "def print_in_color(txt_msg,fore_tupple,back_tupple,):\n",
    "    \n",
    "    #prints the text_msg in the foreground color specified by fore_tupple with the background specified by back_tupple \n",
    "    #text_msg is the text, fore_tupple is foregroud color tupple (r,g,b), back_tupple is background tupple (r,g,b)\n",
    "    \n",
    "    rf,gf,bf=fore_tupple\n",
    "    rb,gb,bb=back_tupple\n",
    "    msg='{0}' + txt_msg\n",
    "    mat='\\33[38;2;' + str(rf) +';' + str(gf) + ';' + str(bf) + ';48;2;' + str(rb) + ';' +str(gb) + ';' + str(bb) +'m' \n",
    "    print(msg .format(mat))"
   ]
  },
  {
   "cell_type": "code",
   "execution_count": null,
   "id": "92cf4d0c",
   "metadata": {
    "scrolled": true
   },
   "outputs": [],
   "source": [
    "sdir=r'D:\\\\dataset\\\\'\n",
    "train_dir=os.path.join(sdir, 'train')\n",
    "msg='{0:8s}{1:4s}{2:^28s}{1:4s}{3:8s}{1:3s}{4:8s}{1:3s}{5:7s}{6}'\n",
    "msg=msg.format('Class Id', ' ', 'Bird Specie  ', 'Train ','Test', 'Valid ','\\n')\n",
    "print_in_color(msg, (0,255,255), (0,0,0))\n",
    "species_list= sorted(os.listdir(train_dir))\n",
    "for i, specie in enumerate (species_list):\n",
    "    file_path=os.path.join(train_dir,specie)\n",
    "    train_files_list=os.listdir(file_path)\n",
    "    train_file_count=str(len(train_files_list))\n",
    "    msg='{0:^8s}{1:4s}{2:^28s}{1:4s}{3:^8s}{1:1s}{4:^8s}{1:3s}{5:^8s}'\n",
    "    msg=msg.format(str(i), ' ',specie, train_file_count,'5', '5')\n",
    "    toggle=i% 2   \n",
    "    if toggle==0:\n",
    "        back_color=(255,255,255)\n",
    "    else:\n",
    "        back_color=(191, 239, 242)\n",
    "    print_in_color(msg, (0,0,0), back_color)\n",
    "#print('\\33[0m')"
   ]
  },
  {
   "cell_type": "code",
   "execution_count": null,
   "id": "2b38df96",
   "metadata": {
    "scrolled": true
   },
   "outputs": [],
   "source": [
    "#Printing All Species-\n",
    "\n",
    "test_dir = os.path.join(sdir, 'test')\n",
    "test_species_list=sorted(os.listdir(test_dir))\n",
    "classes = len(os.listdir(test_dir))\n",
    "fig = plt.figure(figsize=(20,250))\n",
    "if classes % 5==0:\n",
    "    rows=int(classes/5)\n",
    "else:\n",
    "    rows=int(classes/5) +1    \n",
    "for row in range(rows):\n",
    "    for column in range(5):\n",
    "        i= row * 5 + column         \n",
    "        if i>classes-1:\n",
    "            break            \n",
    "        specie=test_species_list[i]\n",
    "        species_path=os.path.join(test_dir, specie)\n",
    "        f_path=os.path.join(species_path, '1.jpg')        \n",
    "        img = mpimg.imread(f_path)\n",
    "        a = fig.add_subplot(rows, 5, i+1)\n",
    "        imgplot=plt.imshow(img)\n",
    "        a.axis(\"off\")\n",
    "        a.set_title(specie)"
   ]
  },
  {
   "cell_type": "markdown",
   "id": "10e2f7e2",
   "metadata": {},
   "source": [
    "## About Classes-"
   ]
  },
  {
   "cell_type": "code",
   "execution_count": null,
   "id": "f9d26e99",
   "metadata": {},
   "outputs": [],
   "source": [
    "train_path=\"D:\\\\dataset\\\\train\\\\\"\n",
    "test_path=\"D:\\\\dataset\\\\test\\\\\"\n",
    "valid_path=\"D:\\\\dataset\\\\valid\\\\\""
   ]
  },
  {
   "cell_type": "code",
   "execution_count": null,
   "id": "aa51e01a",
   "metadata": {},
   "outputs": [],
   "source": [
    "#No. of Classes-\n",
    "\n",
    "no_birds_classes = os.listdir(train_path)\n",
    "len(no_birds_classes)"
   ]
  },
  {
   "cell_type": "code",
   "execution_count": null,
   "id": "5a985ee6",
   "metadata": {
    "scrolled": true
   },
   "outputs": [],
   "source": [
    "#Name of Classes-\n",
    "\n",
    "data_dir = pathlib.Path(\"D:\\\\dataset\\\\train\\\\\")\n",
    "BirdClasses = np.array(sorted([item.name for item in data_dir.glob(\"*\")]))\n",
    "print(BirdClasses)"
   ]
  },
  {
   "cell_type": "markdown",
   "id": "c0fae102",
   "metadata": {},
   "source": [
    "## Visualization of Images-"
   ]
  },
  {
   "cell_type": "code",
   "execution_count": null,
   "id": "f887c9a0",
   "metadata": {},
   "outputs": [],
   "source": [
    "#Reading Data-\n",
    "\n",
    "train_dir = \"D:\\\\dataset\\\\train\\\\\"\n",
    "val_dir = \"D:\\\\dataset\\\\valid\\\\\"\n",
    "test_dir = \"D:\\\\dataset\\\\test\\\\\""
   ]
  },
  {
   "cell_type": "code",
   "execution_count": null,
   "id": "ccadf3bc",
   "metadata": {},
   "outputs": [],
   "source": [
    "def view_random_image(target_dir, target_class):\n",
    "  \n",
    "    # setting up the image directory\n",
    "    target_folder = target_dir + target_class\n",
    "\n",
    "    #get a random image path\n",
    "    random_image = random.sample(os.listdir(target_folder), 1)\n",
    "\n",
    "    #read image and plotting it\n",
    "    img = plt.imread(target_folder + \"/\" + random_image[0] )\n",
    "    \n",
    "    plt.imshow(img)\n",
    "    plt.title(target_class)\n",
    "    plt.axis(\"off\")\n",
    "\n",
    "    #print(f\"Image shape: {img.shape}\")\n",
    "  \n",
    "    return img"
   ]
  },
  {
   "cell_type": "markdown",
   "id": "961484c5",
   "metadata": {},
   "source": [
    "####  A function called 'view_random_image' that takes a directory path (target_dir) and a class/category name (target_class) as input. It combines the directory path and class name to create a specific folder path, retrieves a random image from that folder, reads and loads the image, displays the image using Matplotlib, sets the title of the plot as the class name and removes the axis labels from the plot. Finally, it returns the loaded image."
   ]
  },
  {
   "cell_type": "code",
   "execution_count": null,
   "id": "6dfb036e",
   "metadata": {},
   "outputs": [],
   "source": [
    "img = view_random_image(train_path,'AMERICAN FLAMINGO')"
   ]
  },
  {
   "cell_type": "code",
   "execution_count": null,
   "id": "e77d6c13",
   "metadata": {},
   "outputs": [],
   "source": [
    "fig, axes = plt.subplots(nrows=4, ncols=4, figsize=(12, 10),\n",
    "                        subplot_kw={'xticks': [], 'yticks': []})\n",
    "\n",
    "random_index = np.random.randint(0 , len(BirdClasses)-1 , 16)\n",
    "\n",
    "for i, ax in enumerate(axes.flat):\n",
    "    ax.imshow(view_random_image(train_path,BirdClasses[random_index[i]]))\n",
    "    ax.set_title(BirdClasses[random_index[i]])"
   ]
  },
  {
   "cell_type": "markdown",
   "id": "0b7cf6a9",
   "metadata": {},
   "source": [
    "## Data Preprocessing-"
   ]
  },
  {
   "cell_type": "markdown",
   "id": "64a6ff30",
   "metadata": {},
   "source": [
    "### Using MobileNet Model"
   ]
  },
  {
   "cell_type": "markdown",
   "id": "f68585e8",
   "metadata": {},
   "source": [
    "#### MobileNet-v2 is a convolutional neural network that is 53 layers deep. You can load a pretrained version of the network trained on more than a million images from the ImageNet database. The pretrained network can classify images into 1000 object categories, such as keyboard, mouse, pencil, and many animals."
   ]
  },
  {
   "cell_type": "code",
   "execution_count": null,
   "id": "ee4d4413",
   "metadata": {},
   "outputs": [],
   "source": [
    "from keras.applications.mobilenet_v2 import MobileNetV2"
   ]
  },
  {
   "cell_type": "code",
   "execution_count": null,
   "id": "3d9e3a89",
   "metadata": {},
   "outputs": [],
   "source": [
    "train_gen = ImageDataGenerator(rescale=1./255)\n",
    "test_gen = ImageDataGenerator(rescale=1./255)\n",
    "val_gen = ImageDataGenerator(rescale=1./255)\n",
    "\n",
    "train_data = train_gen.flow_from_directory( train_dir , target_size=(224,224) , batch_size=32 ,\n",
    "                                           class_mode = \"categorical\" ,shuffle=True )\n",
    "\n",
    "val_data = val_gen.flow_from_directory( val_dir , target_size=(224,224) , batch_size=32 , \n",
    "                                       class_mode = \"categorical\" , shuffle=True )\n",
    "\n",
    "test_data = test_gen.flow_from_directory( test_dir , target_size=(224,224) , batch_size=32 , \n",
    "                                         class_mode = \"categorical\" ,shuffle=False )"
   ]
  },
  {
   "cell_type": "markdown",
   "id": "61d8b236",
   "metadata": {},
   "source": [
    "#### ImageDataGenerator is a class in TensorFlow (specifically in the tf.keras.preprocessing.image module) that provides a way to augment and preprocess image data during training. It is commonly used in deep learning tasks, particularly in computer vision, to generate batches of image data with real-time data augmentation."
   ]
  },
  {
   "cell_type": "markdown",
   "id": "c4358038",
   "metadata": {},
   "source": [
    "## Preparing MobileNet Pretrained Model-"
   ]
  },
  {
   "cell_type": "markdown",
   "id": "b297a60a",
   "metadata": {},
   "source": [
    "#### MobileNetV2 is a popular deep learning model for image classification. It is a lightweight and efficient model that was designed to run on mobile devices with limited computational resources."
   ]
  },
  {
   "cell_type": "code",
   "execution_count": null,
   "id": "f795af8d",
   "metadata": {},
   "outputs": [],
   "source": [
    "mobilenet = MobileNetV2( include_top=False , weights=\"imagenet\" , input_shape=(224,224,3))"
   ]
  },
  {
   "cell_type": "code",
   "execution_count": null,
   "id": "0e614877",
   "metadata": {
    "scrolled": true
   },
   "outputs": [],
   "source": [
    "mobilenet.summary()"
   ]
  },
  {
   "cell_type": "markdown",
   "id": "8ae6a51f",
   "metadata": {},
   "source": [
    "## Fine-Tuning MobileNet Model-"
   ]
  },
  {
   "cell_type": "code",
   "execution_count": null,
   "id": "b4bd6558",
   "metadata": {},
   "outputs": [],
   "source": [
    "#Freezing all layers except the last 20 layers\n",
    "\n",
    "mobilenet.trainable=True\n",
    "\n",
    "for layer in mobilenet.layers[:-20]:\n",
    "    layer.trainable=False"
   ]
  },
  {
   "cell_type": "markdown",
   "id": "3a5b07ab",
   "metadata": {},
   "source": [
    "#### The above code is freezing all layers except the last 20 layers. Freezing a layer means that its parameters will not be updated during the training process. By freezing most of the layers and only keeping the last 20 layers trainable, you can focus the training process on refining the final layers to better fit the new task or dataset."
   ]
  },
  {
   "cell_type": "code",
   "execution_count": null,
   "id": "34c3a3c3",
   "metadata": {},
   "outputs": [],
   "source": [
    "Model = Sequential([mobilenet,\n",
    "    GlobalAveragePooling2D(),\n",
    "    BatchNormalization(),\n",
    "    Dense(256,activation='relu'),\n",
    "    BatchNormalization(),\n",
    "    Dense(525,activation='softmax')\n",
    "])\n",
    "\n",
    "Model.summary()"
   ]
  },
  {
   "cell_type": "code",
   "execution_count": null,
   "id": "7a037a1d",
   "metadata": {},
   "outputs": [],
   "source": [
    "Model.compile( optimizer=\"adam\", loss=\"categorical_crossentropy\" , metrics=[\"accuracy\"] )"
   ]
  },
  {
   "cell_type": "code",
   "execution_count": null,
   "id": "5de1bab5",
   "metadata": {},
   "outputs": [],
   "source": [
    "# Create Callback Checkpoint-\n",
    "\n",
    "#checkpoint_path = \"BirdsSpecies_Model_Checkpoint\"\n",
    "#checkpoint_callback = ModelCheckpoint(checkpoint_path,monitor=\"val_accuracy\",save_best_only=True)\n",
    "\n",
    "callbacks = [EarlyStopping(monitor='val_accuracy' , patience=5 , restore_best_weights=True)]"
   ]
  },
  {
   "cell_type": "markdown",
   "id": "48447086",
   "metadata": {},
   "source": [
    "#### A Callback is a set of functions that can be applied at various stages during the training process. Callbacks provide a way to customize and extend the behavior of the training process without modifying the training loop itself."
   ]
  },
  {
   "cell_type": "code",
   "execution_count": null,
   "id": "3611f489",
   "metadata": {},
   "outputs": [],
   "source": [
    "history = Model.fit(train_data, epochs=2, batch_size=32,\n",
    "                    steps_per_epoch=len(train_data),\n",
    "                    callbacks=callbacks,\n",
    "                    workers=1, use_multiprocessing=False,\n",
    "                    validation_data=val_data, validation_steps=len(val_data))"
   ]
  },
  {
   "cell_type": "code",
   "execution_count": null,
   "id": "bea3d680",
   "metadata": {},
   "outputs": [],
   "source": [
    "#Saving model for further loading and again running because epochs are taking time in this project-\n",
    "\n",
    "Model.save('bird.h5')"
   ]
  },
  {
   "cell_type": "code",
   "execution_count": null,
   "id": "c6df3296",
   "metadata": {},
   "outputs": [],
   "source": [
    "#Loading saved model-\n",
    "\n",
    "Model.load_weights('bird.h5')"
   ]
  },
  {
   "cell_type": "code",
   "execution_count": null,
   "id": "d2d7660d",
   "metadata": {},
   "outputs": [],
   "source": [
    "history = Model.fit(train_data, epochs=3, batch_size=64,\n",
    "                    steps_per_epoch=len(train_data),\n",
    "                    callbacks=callbacks,\n",
    "                    workers=1, use_multiprocessing=False,\n",
    "                    validation_data=val_data, validation_steps=len(val_data))"
   ]
  },
  {
   "cell_type": "markdown",
   "id": "d05a4a59",
   "metadata": {},
   "source": [
    "#### In above code I used batch size 64 instead of 32 because it has several advantages like it trains faster, stable gradient estimate and improved generalization."
   ]
  },
  {
   "cell_type": "code",
   "execution_count": null,
   "id": "044066e9",
   "metadata": {},
   "outputs": [],
   "source": [
    "#Again Saving Model-\n",
    "\n",
    "Model.save('bird2.h5')"
   ]
  },
  {
   "cell_type": "code",
   "execution_count": null,
   "id": "975cfbb9",
   "metadata": {},
   "outputs": [],
   "source": [
    "#Again loading saved model-\n",
    "\n",
    "Model.load_weights('bird2.h5')"
   ]
  },
  {
   "cell_type": "code",
   "execution_count": null,
   "id": "3cb5984c",
   "metadata": {},
   "outputs": [],
   "source": [
    "history = Model.fit(train_data, epochs=5, batch_size=64,\n",
    "                    steps_per_epoch=len(train_data),\n",
    "                    callbacks=callbacks,\n",
    "                    workers=1, use_multiprocessing=False,\n",
    "                    validation_data=val_data, validation_steps=len(val_data))"
   ]
  },
  {
   "cell_type": "code",
   "execution_count": null,
   "id": "77f42f78",
   "metadata": {},
   "outputs": [],
   "source": [
    "#Again Saving Model-\n",
    "\n",
    "Model.save('bird3.h5')"
   ]
  },
  {
   "cell_type": "code",
   "execution_count": null,
   "id": "cdfadda9",
   "metadata": {},
   "outputs": [],
   "source": [
    "#Again loading saved model-\n",
    "\n",
    "Model.load_weights('bird3.h5')"
   ]
  },
  {
   "cell_type": "code",
   "execution_count": null,
   "id": "0ba0a5f8",
   "metadata": {},
   "outputs": [],
   "source": [
    "history = Model.fit(train_data, epochs=2, batch_size=64,\n",
    "                    steps_per_epoch=len(train_data),\n",
    "                    callbacks=callbacks,\n",
    "                    workers=1, use_multiprocessing=False,\n",
    "                    validation_data=val_data, validation_steps=len(val_data))"
   ]
  },
  {
   "cell_type": "code",
   "execution_count": null,
   "id": "7b30f24e",
   "metadata": {},
   "outputs": [],
   "source": [
    "#Again Saving Model-\n",
    "\n",
    "Model.save('bird4.h5')"
   ]
  },
  {
   "cell_type": "code",
   "execution_count": null,
   "id": "2fcae8f6",
   "metadata": {},
   "outputs": [],
   "source": [
    "#Again loading saved model-\n",
    "\n",
    "Model.load_weights('bird4.h5')"
   ]
  },
  {
   "cell_type": "code",
   "execution_count": null,
   "id": "dc063e3f",
   "metadata": {},
   "outputs": [],
   "source": [
    "history = Model.fit(train_data, epochs=5, batch_size=64,\n",
    "                    steps_per_epoch=len(train_data),\n",
    "                    callbacks=callbacks,\n",
    "                    workers=1, use_multiprocessing=False,\n",
    "                    validation_data=val_data, validation_steps=len(val_data))"
   ]
  },
  {
   "cell_type": "code",
   "execution_count": null,
   "id": "ac352e8a",
   "metadata": {},
   "outputs": [],
   "source": [
    "#Again Saving Model-\n",
    "\n",
    "Model.save('bird6.h5')"
   ]
  },
  {
   "cell_type": "code",
   "execution_count": null,
   "id": "3dba44c4",
   "metadata": {},
   "outputs": [],
   "source": [
    "#Again loading saved model-\n",
    "\n",
    "Model.load_weights('bird6.h5')"
   ]
  },
  {
   "cell_type": "code",
   "execution_count": null,
   "id": "cce4d4ed",
   "metadata": {},
   "outputs": [],
   "source": [
    "history = Model.fit(train_data, epochs=3, batch_size=64,\n",
    "                    steps_per_epoch=len(train_data),\n",
    "                    callbacks=callbacks,\n",
    "                    workers=1, use_multiprocessing=False,\n",
    "                    validation_data=val_data, validation_steps=len(val_data))"
   ]
  },
  {
   "cell_type": "code",
   "execution_count": null,
   "id": "6eb1c4f6",
   "metadata": {},
   "outputs": [],
   "source": [
    "#Again Saving Model-\n",
    "\n",
    "Model.save('bird7.h5')"
   ]
  },
  {
   "cell_type": "code",
   "execution_count": null,
   "id": "601b9797",
   "metadata": {},
   "outputs": [],
   "source": [
    "#Loading Model-\n",
    "\n",
    "Model.load_weights('bird7.h5')"
   ]
  },
  {
   "cell_type": "code",
   "execution_count": null,
   "id": "c35da8d8",
   "metadata": {},
   "outputs": [],
   "source": [
    "history = Model.fit(train_data, epochs=5, batch_size=64,\n",
    "                    steps_per_epoch=len(train_data),\n",
    "                    callbacks=callbacks,\n",
    "                    workers=1, use_multiprocessing=False,\n",
    "                    validation_data=val_data, validation_steps=len(val_data))"
   ]
  },
  {
   "cell_type": "code",
   "execution_count": null,
   "id": "7f9866de",
   "metadata": {},
   "outputs": [],
   "source": [
    "#Again Saving Model-\n",
    "\n",
    "Model.save('bird8.h5')"
   ]
  },
  {
   "cell_type": "code",
   "execution_count": null,
   "id": "9f564f4a",
   "metadata": {},
   "outputs": [],
   "source": [
    "#Loading Model-\n",
    "\n",
    "Model.load_weights('bird8.h5')"
   ]
  },
  {
   "cell_type": "code",
   "execution_count": null,
   "id": "439ddea5",
   "metadata": {},
   "outputs": [],
   "source": [
    "history = Model.fit(train_data, epochs=5, batch_size=64,\n",
    "                    steps_per_epoch=len(train_data),\n",
    "                    callbacks=callbacks,\n",
    "                    workers=1, use_multiprocessing=False,\n",
    "                    validation_data=val_data, validation_steps=len(val_data))"
   ]
  },
  {
   "cell_type": "code",
   "execution_count": null,
   "id": "081bba7c",
   "metadata": {},
   "outputs": [],
   "source": [
    "#Again Saving Model-\n",
    "\n",
    "Model.save('bird9.h5')"
   ]
  },
  {
   "cell_type": "code",
   "execution_count": null,
   "id": "a7a4303c",
   "metadata": {},
   "outputs": [],
   "source": [
    "#Loading Model-\n",
    "\n",
    "Model.load_weights('bird9.h5')"
   ]
  },
  {
   "cell_type": "markdown",
   "id": "fd1e6dc3",
   "metadata": {},
   "source": [
    "#### In this project I have been running epochs 3-5 five at time because the data is too much to process and single epoch is taking around 45 minutes to run. "
   ]
  },
  {
   "cell_type": "markdown",
   "id": "6d3912a1",
   "metadata": {},
   "source": [
    "## Evaluating The Model-"
   ]
  },
  {
   "cell_type": "code",
   "execution_count": null,
   "id": "bc5f7329",
   "metadata": {},
   "outputs": [],
   "source": [
    "results = Model.evaluate(test_data, verbose=0)\n",
    "\n",
    "print(\"Test Loss: {:.5f}\".format(results[0]))\n",
    "print(\"Test Accuracy: {:.2f}%\".format(results[1] * 100))"
   ]
  },
  {
   "cell_type": "code",
   "execution_count": null,
   "id": "0444bacf",
   "metadata": {},
   "outputs": [],
   "source": [
    "def plot_curves(history):\n",
    "\n",
    "    loss = history.history[\"loss\"]\n",
    "    val_loss = history.history[\"val_loss\"]\n",
    "\n",
    "    accuracy = history.history[\"accuracy\"]\n",
    "    val_accuracy = history.history[\"val_accuracy\"]\n",
    "\n",
    "    epochs = range(len(history.history[\"loss\"]))\n",
    "\n",
    "    #plot loss\n",
    "    plt.plot(epochs, loss, label = \"training_loss\")\n",
    "    plt.plot(epochs, val_loss, label = \"val_loss\")\n",
    "    plt.title(\"Loss\")\n",
    "    plt.xlabel(\"epochs\")\n",
    "    plt.legend()\n",
    "\n",
    "    #plot accuracy\n",
    "    plt.figure() \n",
    "    plt.plot(epochs, accuracy, label = \"training_accuracy\")\n",
    "    plt.plot(epochs, val_accuracy, label = \"val_accuracy\")\n",
    "    plt.title(\"Accuracy\")\n",
    "    plt.xlabel(\"epochs\")\n",
    "    plt.legend()\n",
    "    plt.show()\n",
    "    plt.tight_layout()"
   ]
  },
  {
   "cell_type": "code",
   "execution_count": null,
   "id": "331a6c1c",
   "metadata": {},
   "outputs": [],
   "source": [
    "plot_curves(history)"
   ]
  },
  {
   "cell_type": "markdown",
   "id": "c0244803",
   "metadata": {},
   "source": [
    "## Predicting Test Set-"
   ]
  },
  {
   "cell_type": "code",
   "execution_count": null,
   "id": "633a9b06",
   "metadata": {},
   "outputs": [],
   "source": [
    "pred = Model.predict(test_data)\n",
    "pred = np.argmax(pred,axis=1)"
   ]
  },
  {
   "cell_type": "code",
   "execution_count": null,
   "id": "22c8419b",
   "metadata": {
    "scrolled": false
   },
   "outputs": [],
   "source": [
    "index =62\n",
    "\n",
    "img , label = test_data[index]\n",
    "label = test_data.labels[index]\n",
    "\n",
    "print(img)\n",
    "print(label)"
   ]
  },
  {
   "cell_type": "code",
   "execution_count": null,
   "id": "6001ebfd",
   "metadata": {},
   "outputs": [],
   "source": [
    "print(f\"True Label: {BirdClasses[label]}\")\n",
    "print(f\"Predicted Label: {BirdClasses[pred[index]]}\")  \n",
    "\n",
    "plt.imshow(img[0])\n",
    "plt.show()"
   ]
  },
  {
   "cell_type": "code",
   "execution_count": null,
   "id": "25cd73ab",
   "metadata": {},
   "outputs": [],
   "source": [
    "#Display 10 random pictures from the dataset with their labels-\n",
    "\n",
    "random_index = np.random.randint(0, len(test_data) - 1, 10)\n",
    "\n",
    "fig, axes = plt.subplots(nrows=2, ncols=5, figsize=(25, 10),\n",
    "                        subplot_kw={'xticks': [], 'yticks': []})\n",
    "\n",
    "for i, ax in enumerate(axes.flat):\n",
    "    randImg , randLabel = test_data[random_index[i]]\n",
    "    randLabel = test_data.labels[random_index[i]]\n",
    "    ax.imshow(randImg[0])\n",
    "    if BirdClasses[randLabel] == BirdClasses[pred[random_index[i]]]:\n",
    "      color = \"green\"\n",
    "    else:\n",
    "      color = \"red\"\n",
    "    ax.set_title(f\"True: {BirdClasses[randLabel]}\\nPredicted: {BirdClasses[pred[random_index[i]]]}\", color=color)\n",
    "plt.show()\n",
    "plt.tight_layout()"
   ]
  },
  {
   "cell_type": "markdown",
   "id": "790d706a",
   "metadata": {},
   "source": [
    "## Predicting Random Image-"
   ]
  },
  {
   "cell_type": "code",
   "execution_count": null,
   "id": "ac29263f",
   "metadata": {},
   "outputs": [],
   "source": [
    "def load_and_prep_image(filename, img_shape = 224):\n",
    "    \n",
    "    img = tf.io.read_file(filename) #read image\n",
    "    img = tf.image.decode_image(img) # decode the image to a tensor\n",
    "    img = tf.image.resize(img, size = [img_shape, img_shape]) # resize the image\n",
    "    img = img/255. # rescale the image\n",
    "    \n",
    "    return img"
   ]
  },
  {
   "cell_type": "code",
   "execution_count": null,
   "id": "cfd184b1",
   "metadata": {},
   "outputs": [],
   "source": [
    "def pred_and_plot(filename, class_names):\n",
    "\n",
    "  #Import the target image and preprocess it\n",
    "  img = load_and_prep_image(filename)\n",
    "\n",
    "  #Make a prediction\n",
    "  pred = Model.predict(tf.expand_dims(img, axis=0))\n",
    "\n",
    "  #Get the predicted class\n",
    "  pred_class = class_names[pred.argmax()]\n",
    "\n",
    "  #Plot the image and predicted class\n",
    "  plt.imshow(img)\n",
    "  plt.title(f\"Prediction: {pred_class}\")\n",
    "  plt.axis(False);"
   ]
  },
  {
   "cell_type": "code",
   "execution_count": null,
   "id": "c149ef26",
   "metadata": {},
   "outputs": [],
   "source": [
    "pred_and_plot(\"D:/test/BLACK FRANCOLIN/5.jpg\", BirdClasses)"
   ]
  },
  {
   "cell_type": "code",
   "execution_count": null,
   "id": "aad5d344",
   "metadata": {},
   "outputs": [],
   "source": [
    "pred_and_plot(\"D:/test/WOODLAND KINGFISHER/2.jpg\", BirdClasses)    "
   ]
  },
  {
   "cell_type": "code",
   "execution_count": null,
   "id": "6eb39361",
   "metadata": {},
   "outputs": [],
   "source": [
    "#Saving Model-\n",
    "\n",
    "Model.save('bird5.h5')"
   ]
  }
 ],
 "metadata": {
  "kernelspec": {
   "display_name": "Python 3 (ipykernel)",
   "language": "python",
   "name": "python3"
  },
  "language_info": {
   "codemirror_mode": {
    "name": "ipython",
    "version": 3
   },
   "file_extension": ".py",
   "mimetype": "text/x-python",
   "name": "python",
   "nbconvert_exporter": "python",
   "pygments_lexer": "ipython3",
   "version": "3.9.13"
  }
 },
 "nbformat": 4,
 "nbformat_minor": 5
}
